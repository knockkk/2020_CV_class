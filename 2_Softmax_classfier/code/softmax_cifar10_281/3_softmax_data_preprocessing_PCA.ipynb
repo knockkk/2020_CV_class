{
 "cells": [
  {
   "cell_type": "code",
   "execution_count": 1,
   "metadata": {},
   "outputs": [],
   "source": [
    "import numpy as np\n",
    "import matplotlib.pyplot as plt\n",
    "from sklearn.decomposition import PCA\n",
    "\n",
    "from data_utils import load_CIFAR10\n",
    "from softmax_without_regression import Softmax"
   ]
  },
  {
   "cell_type": "code",
   "execution_count": 2,
   "metadata": {},
   "outputs": [],
   "source": [
    "def min_max_scaler(X):\n",
    "    min1 = 0\n",
    "    max1 = 255\n",
    "    return (X-min1)/(max1-min1)\n",
    "\n",
    "def pre_dataset():\n",
    "    cifar10_dir = 'D:/dataset/cifar-10-python/cifar-10-batches-py'\n",
    "    X_train, y_train, X_test, y_test = load_CIFAR10(cifar10_dir)\n",
    "\n",
    "    num_train = 48000\n",
    "    num_val = 2000\n",
    "\n",
    "    mask = range(num_train, num_train + num_val)\n",
    "    X_val = X_train[mask]\n",
    "    y_val = y_train[mask]\n",
    "    X_train = X_train[:num_train]\n",
    "    y_train = y_train[:num_train]\n",
    "\n",
    "    X_train = np.reshape(X_train, (X_train.shape[0], -1))\n",
    "    X_test = np.reshape(X_test, (X_test.shape[0], -1))\n",
    "    X_val = np.reshape(X_val, (X_val.shape[0], -1))\n",
    "\n",
    "    X_train = min_max_scaler(X_train)\n",
    "    X_val = min_max_scaler(X_val)\n",
    "    X_test = min_max_scaler(X_test)\n",
    "\n",
    "    # add a parameter for W\n",
    "    X_train = np.hstack([X_train, np.ones((X_train.shape[0], 1))])\n",
    "    X_test = np.hstack([X_test, np.ones((X_test.shape[0], 1))])\n",
    "    X_val = np.hstack([X_val, np.ones((X_val.shape[0], 1))])\n",
    "\n",
    "    return X_train, y_train, X_test, y_test, X_val, y_val"
   ]
  },
  {
   "cell_type": "code",
   "execution_count": 3,
   "metadata": {},
   "outputs": [],
   "source": [
    "def get_softmax_model(X, y,learning_rate,batch_num,num_iter):\n",
    "    softmax = Softmax()\n",
    "    loss_history = softmax.train(X, y, learning_rate,batch_num,num_iter)\n",
    "    VisualizeLoss(loss_history)\n",
    "    return softmax\n",
    "\n",
    "def VisualizeLoss(loss_history):\n",
    "    plt.plot(loss_history)\n",
    "    plt.xlabel('Iteration number')\n",
    "    plt.ylabel('Loss value')\n",
    "    plt.show()"
   ]
  },
  {
   "cell_type": "code",
   "execution_count": 4,
   "metadata": {},
   "outputs": [],
   "source": [
    "def pca_dim_reduction(X_train,X_val,X_test,ratio=0.95): #降维\n",
    "    pca = PCA(n_components=ratio)\n",
    "    pca.fit(X_train)\n",
    "    X_train_transformed = pca.transform(X_train)\n",
    "    X_val_transformed = pca.transform(X_val)\n",
    "    X_test_transformed = pca.transform(X_test)\n",
    "    return X_train_transformed,X_val_transformed,X_test_transformed"
   ]
  },
  {
   "cell_type": "markdown",
   "metadata": {},
   "source": [
    "#### PCA 降维"
   ]
  },
  {
   "cell_type": "code",
   "execution_count": 5,
   "metadata": {},
   "outputs": [
    {
     "name": "stdout",
     "output_type": "stream",
     "text": [
      "D:/dataset/cifar-10-python/cifar-10-batches-py\\data_batch_1\n",
      "D:/dataset/cifar-10-python/cifar-10-batches-py\\data_batch_2\n",
      "D:/dataset/cifar-10-python/cifar-10-batches-py\\data_batch_3\n",
      "D:/dataset/cifar-10-python/cifar-10-batches-py\\data_batch_4\n",
      "D:/dataset/cifar-10-python/cifar-10-batches-py\\data_batch_5\n",
      "D:/dataset/cifar-10-python/cifar-10-batches-py\\test_batch\n"
     ]
    }
   ],
   "source": [
    "X_train, y_train, X_test, y_test, X_val, y_val = pre_dataset()"
   ]
  },
  {
   "cell_type": "code",
   "execution_count": 6,
   "metadata": {},
   "outputs": [],
   "source": [
    "X_train,X_val,X_test = pca_dim_reduction(X_train,X_val,X_test)"
   ]
  },
  {
   "cell_type": "markdown",
   "metadata": {},
   "source": [
    "##### 保留95%的信息，降维后数据从3072维降到了 217维"
   ]
  },
  {
   "cell_type": "code",
   "execution_count": 7,
   "metadata": {},
   "outputs": [
    {
     "data": {
      "text/plain": [
       "(48000, 217)"
      ]
     },
     "execution_count": 7,
     "metadata": {},
     "output_type": "execute_result"
    }
   ],
   "source": [
    "X_train.shape"
   ]
  },
  {
   "cell_type": "markdown",
   "metadata": {},
   "source": [
    "##### 准确率上不去了\n",
    "\n",
    "##### 0.0005 100000 =》 acc：0.406\n",
    "##### 500 ,0.0001,500000 -》acc：.405700"
   ]
  },
  {
   "cell_type": "code",
   "execution_count": 8,
   "metadata": {},
   "outputs": [
    {
     "name": "stdout",
     "output_type": "stream",
     "text": [
      "Iteration 0 / 2000: loss 2.305116\n",
      "Iteration 500 / 2000: loss 2.076743\n",
      "Iteration 1000 / 2000: loss 2.120088\n",
      "Iteration 1500 / 2000: loss 2.093258\n"
     ]
    },
    {
     "data": {
      "image/png": "[encoded data removed]",
      "text/plain": [
       "<Figure size 432x288 with 1 Axes>"
      ]
     },
     "metadata": {
      "needs_background": "light"
     },
     "output_type": "display_data"
    },
    {
     "name": "stdout",
     "output_type": "stream",
     "text": [
      "learning_rate: 0.010000;batch_num: 500; Accuracy: 0.322100\n"
     ]
    }
   ],
   "source": [
    "batch_nums = [500]\n",
    "learning_rates = [0.01]\n",
    "num_iter = 2000\n",
    "for learning_rate in learning_rates:\n",
    "    for batch_num in batch_nums:\n",
    "        softmax = get_softmax_model(X_train, y_train,learning_rate,batch_num,num_iter)\n",
    "        y_pred = softmax.predict(X_test)\n",
    "        acc = np.mean(y_pred == y_test)\n",
    "        print('learning_rate: %f;batch_num: %d; Accuracy: %f' % (learning_rate,batch_num,acc))"
   ]
  },
  {
   "cell_type": "code",
   "execution_count": null,
   "metadata": {},
   "outputs": [],
   "source": []
  }
 ],
 "metadata": {
  "kernelspec": {
   "display_name": "Python 3",
   "language": "python",
   "name": "python3"
  },
  "language_info": {
   "codemirror_mode": {
    "name": "ipython",
    "version": 3
   },
   "file_extension": ".py",
   "mimetype": "text/x-python",
   "name": "python",
   "nbconvert_exporter": "python",
   "pygments_lexer": "ipython3",
   "version": "3.6.4"
  }
 },
 "nbformat": 4,
 "nbformat_minor": 2
}
