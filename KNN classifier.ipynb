{
 "cells": [
  {
   "cell_type": "markdown",
   "metadata": {},
   "source": [
    "#### 引入文件"
   ]
  },
  {
   "cell_type": "code",
   "execution_count": 1,
   "metadata": {},
   "outputs": [],
   "source": [
    "def unpickle(file):\n",
    "    import pickle\n",
    "    with open(file, 'rb') as fo:\n",
    "        dict = pickle.load(fo, encoding='bytes')\n",
    "    return dict\n",
    "\n",
    "train_data = unpickle(\"../dataset/cifar-10-python/cifar-10-batches-py/data_batch_1\");\n",
    "test_data = unpickle(\"../dataset/cifar-10-python/cifar-10-batches-py/test_batch\");"
   ]
  },
  {
   "cell_type": "markdown",
   "metadata": {},
   "source": [
    "#### 测试数据集"
   ]
  },
  {
   "cell_type": "code",
   "execution_count": 2,
   "metadata": {},
   "outputs": [
    {
     "name": "stdout",
     "output_type": "stream",
     "text": [
      "labels length: 10000\n",
      "data size: (10000, 3072)\n"
     ]
    }
   ],
   "source": [
    "train_data_labels = train_data[b'labels'] #0~9\n",
    "train_data_pic = train_data[b'data']\n",
    "print(\"labels length:\",len(train_data_labels))\n",
    "print(\"data size:\",train_data_pic.shape)"
   ]
  },
  {
   "cell_type": "code",
   "execution_count": 11,
   "metadata": {},
   "outputs": [
    {
     "name": "stdout",
     "output_type": "stream",
     "text": [
      "0 :  1005\n",
      "1 :  974\n",
      "2 :  1032\n",
      "3 :  1016\n",
      "4 :  999\n",
      "5 :  937\n",
      "6 :  1030\n",
      "7 :  1001\n",
      "8 :  1025\n",
      "9 :  981\n"
     ]
    }
   ],
   "source": [
    "#统计测试数据集中各类别出现次数\n",
    "def get_label_count(labels): \n",
    "    unique_data = np.unique(labels)\n",
    "    for label in unique_data:\n",
    "        print(label,\": \",labels.count(label))\n",
    "get_label_count(train_data_labels)"
   ]
  },
  {
   "cell_type": "markdown",
   "metadata": {},
   "source": [
    "#### 测试数据集"
   ]
  },
  {
   "cell_type": "code",
   "execution_count": 3,
   "metadata": {},
   "outputs": [
    {
     "name": "stdout",
     "output_type": "stream",
     "text": [
      "labels length: 10000\n",
      "data size: (10000, 3072)\n"
     ]
    }
   ],
   "source": [
    "test_data_labels = test_data[b'labels'] #0~9\n",
    "test_data_pic = test_data[b'data']\n",
    "print(\"labels length:\",len(test_data_labels))\n",
    "print(\"data size:\",test_data_pic.shape)"
   ]
  },
  {
   "cell_type": "markdown",
   "metadata": {},
   "source": [
    "#### 显示图片"
   ]
  },
  {
   "cell_type": "code",
   "execution_count": 4,
   "metadata": {},
   "outputs": [],
   "source": [
    "import matplotlib.pyplot as plt\n",
    "import numpy as np\n",
    "def draw_cifar10(raw_pic_data): #输入(3072,)的numpy矩阵\n",
    "    img = raw_pic_data.reshape(3,32,32)\n",
    "    img = img.transpose(1, 2, 0)  \n",
    "    plt.imshow(img)"
   ]
  },
  {
   "cell_type": "code",
   "execution_count": 8,
   "metadata": {},
   "outputs": [
    {
     "data": {
      "image/png": "[encoded data removed]",
      "text/plain": [
       "<Figure size 432x288 with 1 Axes>"
      ]
     },
     "metadata": {
      "needs_background": "light"
     },
     "output_type": "display_data"
    }
   ],
   "source": [
    "test_raw_img = train_data_pic[1005]\n",
    "draw_cifar10(test_raw_img)"
   ]
  },
  {
   "cell_type": "code",
   "execution_count": 25,
   "metadata": {},
   "outputs": [],
   "source": [
    "class KNN_Classfier:\n",
    "    def __init__(self):\n",
    "        pass\n",
    "    def train(self,X,y):\n",
    "        self.X_train = X\n",
    "        self.y_train = y\n",
    "    def predict(self,X):\n",
    "        num_test = X.shape[0]\n",
    "        y_pred = np.zeros(num_test, dtype=self.y_train.dtype)\n",
    "        \n",
    "        for i in range(num_test):\n",
    "            distances = np.sum(np.abs(self.X_train - X[i,:]),axis=1)\n",
    "            min_index = np.argmin(distances) #当前测试的图片与训练集中的图片距离最小的index（k=1,容易过拟合）\n",
    "            y_pred[i] = self.y_train[min_index]\n",
    "        return y_pred"
   ]
  },
  {
   "cell_type": "markdown",
   "metadata": {},
   "source": [
    "### 测试"
   ]
  },
  {
   "cell_type": "code",
   "execution_count": 27,
   "metadata": {},
   "outputs": [],
   "source": [
    "length = 500\n",
    "X_train = train_data_pic[0:length]\n",
    "y_train = np.array(train_data_labels[0:length])\n",
    "X_test = test_data_pic[0:length]\n",
    "y_test = test_data_labels[0:length]"
   ]
  },
  {
   "cell_type": "code",
   "execution_count": 32,
   "metadata": {},
   "outputs": [],
   "source": [
    "my_knn_classifier = KNN_Classfier()\n",
    "my_knn_classifier.train(X_train, y_train)\n",
    "y_pred = my_knn_classifier.predict(X_test)"
   ]
  },
  {
   "cell_type": "code",
   "execution_count": 39,
   "metadata": {},
   "outputs": [
    {
     "name": "stdout",
     "output_type": "stream",
     "text": [
      "准确率: 0.18\n"
     ]
    }
   ],
   "source": [
    "count = 0\n",
    "for i in range(length):\n",
    "    if(y_pred[i] == y_test[i]):\n",
    "        count = count + 1\n",
    "print(\"准确率:\",count/length)"
   ]
  },
  {
   "cell_type": "code",
   "execution_count": null,
   "metadata": {},
   "outputs": [],
   "source": []
  }
 ],
 "metadata": {
  "kernelspec": {
   "display_name": "Python 3",
   "language": "python",
   "name": "python3"
  },
  "language_info": {
   "codemirror_mode": {
    "name": "ipython",
    "version": 3
   },
   "file_extension": ".py",
   "mimetype": "text/x-python",
   "name": "python",
   "nbconvert_exporter": "python",
   "pygments_lexer": "ipython3",
   "version": "3.6.4"
  }
 },
 "nbformat": 4,
 "nbformat_minor": 2
}
