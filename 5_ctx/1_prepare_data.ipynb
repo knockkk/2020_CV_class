{
 "cells": [
  {
   "cell_type": "code",
   "execution_count": 1,
   "metadata": {},
   "outputs": [],
   "source": [
    "import pickle\n",
    "import numpy as np\n",
    "import matplotlib.pyplot as plt\n",
    "from six.moves import cPickle"
   ]
  },
  {
   "cell_type": "code",
   "execution_count": 2,
   "metadata": {},
   "outputs": [],
   "source": [
    "def load_data(max_num):\n",
    "    data = []\n",
    "    for i in range(1,max_num+1):\n",
    "        filename = './dataset/dataset_' + str(i) + '.pkl'\n",
    "        with open(filename, 'rb') as f:\n",
    "            data += pickle.load(f)\n",
    "    return data"
   ]
  },
  {
   "cell_type": "code",
   "execution_count": 3,
   "metadata": {},
   "outputs": [],
   "source": [
    "data = load_data(8)"
   ]
  },
  {
   "cell_type": "code",
   "execution_count": 6,
   "metadata": {},
   "outputs": [
    {
     "name": "stdout",
     "output_type": "stream",
     "text": [
      "汉字图片数量： 673475\n",
      "图片大小： (44, 32, 3)\n",
      "汉字： 店\n"
     ]
    },
    {
     "data": {
      "text/plain": [
       "<matplotlib.image.AxesImage at 0x2108bee3b88>"
      ]
     },
     "execution_count": 6,
     "metadata": {},
     "output_type": "execute_result"
    },
    {
     "data": {
      "image/png": "[encoded data removed]",
      "text/plain": [
       "<Figure size 432x288 with 1 Axes>"
      ]
     },
     "metadata": {
      "needs_background": "light"
     },
     "output_type": "display_data"
    }
   ],
   "source": [
    "#汉字图片数量\n",
    "print('汉字图片数量：',len(data))\n",
    "\n",
    "image = data[660510]\n",
    "print('图片大小：',image[0].shape) \n",
    "print('汉字：',image[1])\n",
    "plt.imshow(image[0])"
   ]
  },
  {
   "cell_type": "code",
   "execution_count": 7,
   "metadata": {},
   "outputs": [],
   "source": [
    "#统计各汉字出现次数\n",
    "charCount = {}\n",
    "for i in range(len(data)):\n",
    "    if(data[i][1] in charCount):\n",
    "        charCount[data[i][1]] += 1\n",
    "    else:\n",
    "        charCount[data[i][1]] = 1"
   ]
  },
  {
   "cell_type": "code",
   "execution_count": 8,
   "metadata": {},
   "outputs": [],
   "source": [
    "#汉字数组\n",
    "char_list = np.array(list(charCount.keys()))\n",
    "#出现次数数组\n",
    "count_list = np.array(list(charCount.values()))"
   ]
  },
  {
   "cell_type": "code",
   "execution_count": 9,
   "metadata": {},
   "outputs": [
    {
     "data": {
      "text/plain": [
       "3501"
      ]
     },
     "execution_count": 9,
     "metadata": {},
     "output_type": "execute_result"
    }
   ],
   "source": [
    "#汉字类别数量\n",
    "len(char_list)"
   ]
  },
  {
   "cell_type": "code",
   "execution_count": 10,
   "metadata": {},
   "outputs": [],
   "source": [
    "#按汉字出现次数从大到小排序\n",
    "sorted_index = np.argsort(-count_list)\n",
    "\n",
    "sorted_char_list = char_list[sorted_index]\n",
    "sorted_count_list = count_list[sorted_index]"
   ]
  },
  {
   "cell_type": "code",
   "execution_count": 17,
   "metadata": {
    "scrolled": true
   },
   "outputs": [
    {
     "name": "stdout",
     "output_type": "stream",
     "text": [
      "出现次数最多的汉字：中 ；出现次数：11581\n",
      "出现次数排第600的汉字：勤 ；出现次数：240\n"
     ]
    }
   ],
   "source": [
    "index = 599\n",
    "print('出现次数最多的汉字：%s ；出现次数：%d'%(sorted_char_list[0],sorted_count_list[0]))\n",
    "print('出现次数排第%d的汉字：%s ；出现次数：%d'%(index+1,sorted_char_list[index],\n",
    "                                 sorted_count_list[index]))"
   ]
  },
  {
   "cell_type": "markdown",
   "metadata": {},
   "source": [
    "### 从数据集出现次数排前600的汉字中各抽取200个作为训练集，即训练集数量为120000；同样，各抽取40个作为测试集，即测试集数量为24000"
   ]
  },
  {
   "cell_type": "code",
   "execution_count": 18,
   "metadata": {},
   "outputs": [],
   "source": [
    "data_all = []\n",
    "label_all = []\n",
    "\n",
    "num_classes = 600\n",
    "num_each_class_train = 200 #每个类别的训练样本数量\n",
    "num_each_class_test = 40 #每个类别的测试样本数量\n",
    "num_each_class = num_each_class_train + num_each_class_test\n",
    "for i in range(num_classes):\n",
    "    char = sorted_char_list[i]\n",
    "    \n",
    "    count = 0\n",
    "    for j in range(len(data)):\n",
    "        if(count>=num_each_class_train + num_each_class_test):\n",
    "            break\n",
    "        if(data[j][1] == char):\n",
    "            data_all.append(data[j][0])\n",
    "            label_all.append(i+1)\n",
    "            count += 1"
   ]
  },
  {
   "cell_type": "code",
   "execution_count": 21,
   "metadata": {},
   "outputs": [],
   "source": [
    "# 分出训练集和测试集\n",
    "train_data = []\n",
    "train_label = []\n",
    "test_data = []\n",
    "test_label = []\n",
    "\n",
    "for i in range(num_classes): #20000\n",
    "    test_data += data_all[i*num_each_class:i*num_each_class+num_each_class_test]\n",
    "    test_label += label_all[i*num_each_class:i*num_each_class+num_each_class_test]\n",
    "    \n",
    "    train_data += data_all[i*num_each_class+num_each_class_test:(i+1)*num_each_class]\n",
    "    train_label += label_all[i*num_each_class+num_each_class_test:(i+1)*num_each_class]"
   ]
  },
  {
   "cell_type": "markdown",
   "metadata": {},
   "source": [
    "### resize image to 24 X 24 X 3"
   ]
  },
  {
   "cell_type": "code",
   "execution_count": 27,
   "metadata": {},
   "outputs": [],
   "source": [
    "import cv2\n",
    "\n",
    "def resize_image(image,size): #插值方法\n",
    "    return cv2.resize(image, size, interpolation = cv2.INTER_CUBIC)"
   ]
  },
  {
   "cell_type": "code",
   "execution_count": 28,
   "metadata": {},
   "outputs": [],
   "source": [
    "for i in range(len(train_data)):\n",
    "    train_data[i] = resize_image(train_data[i],(24,24))\n",
    "for i in range(len(test_data)):\n",
    "    test_data[i] = resize_image(test_data[i],(24,24))"
   ]
  },
  {
   "cell_type": "code",
   "execution_count": 29,
   "metadata": {},
   "outputs": [],
   "source": [
    "train_data = np.array(train_data)\n",
    "train_label = np.array(train_label)\n",
    "test_data = np.array(test_data)\n",
    "test_label = np.array(test_label)\n",
    "\n",
    "#类别从0开始\n",
    "train_label = train_label - 1\n",
    "test_label = test_label - 1"
   ]
  },
  {
   "cell_type": "code",
   "execution_count": 30,
   "metadata": {},
   "outputs": [],
   "source": [
    "#保存数据\n",
    "tmp_data = [train_data,train_label,test_data,test_label]\n",
    "\n",
    "with open('./temp/ctx600_order.pkl', 'wb') as f:\n",
    "        cPickle.dump(tmp_data, f)"
   ]
  },
  {
   "cell_type": "code",
   "execution_count": null,
   "metadata": {},
   "outputs": [],
   "source": []
  }
 ],
 "metadata": {
  "kernelspec": {
   "display_name": "pytorch_gpu",
   "language": "python",
   "name": "pytorch_gpu"
  },
  "language_info": {
   "codemirror_mode": {
    "name": "ipython",
    "version": 3
   },
   "file_extension": ".py",
   "mimetype": "text/x-python",
   "name": "python",
   "nbconvert_exporter": "python",
   "pygments_lexer": "ipython3",
   "version": "3.7.6"
  }
 },
 "nbformat": 4,
 "nbformat_minor": 4
}
