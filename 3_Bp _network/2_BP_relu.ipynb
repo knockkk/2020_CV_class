{
 "cells": [
  {
   "cell_type": "code",
   "execution_count": 1,
   "metadata": {},
   "outputs": [],
   "source": [
    "import numpy as np\n",
    "import matplotlib.pyplot as plt\n",
    "from sklearn.decomposition import PCA\n",
    "\n",
    "from data_utils import load_CIFAR10\n",
    "from BP_Network_Relu import BPNetWork"
   ]
  },
  {
   "cell_type": "code",
   "execution_count": 2,
   "metadata": {},
   "outputs": [],
   "source": [
    "def pre_dataset():\n",
    "    cifar10_dir = 'D:/dataset/cifar-10-python/cifar-10-batches-py'\n",
    "    X_train, y_train, X_test, y_test = load_CIFAR10(cifar10_dir)\n",
    "\n",
    "    #像素去均值化\n",
    "    X_train = X_train - np.mean(X_train,axis=0)\n",
    "    X_test = X_test - np.mean(X_test,axis=0)\n",
    "    \n",
    "    num_train = 20000\n",
    "    num_test = 2000\n",
    "    X_train = X_train[:num_train]\n",
    "    y_train = y_train[:num_train]\n",
    "    X_test = X_test[:num_test]\n",
    "    y_test = y_test[:num_test]\n",
    "    \n",
    "    X_train = np.reshape(X_train, (X_train.shape[0], -1))\n",
    "    X_test = np.reshape(X_test, (X_test.shape[0], -1))\n",
    "\n",
    "    # add a parameter for W\n",
    "    X_train = np.hstack([X_train, np.ones((X_train.shape[0], 1))])\n",
    "    X_test = np.hstack([X_test, np.ones((X_test.shape[0], 1))])\n",
    "\n",
    "    return X_train, y_train, X_test, y_test"
   ]
  },
  {
   "cell_type": "code",
   "execution_count": 3,
   "metadata": {},
   "outputs": [
    {
     "name": "stdout",
     "output_type": "stream",
     "text": [
      "D:/dataset/cifar-10-python/cifar-10-batches-py\\data_batch_1\n",
      "D:/dataset/cifar-10-python/cifar-10-batches-py\\data_batch_2\n",
      "D:/dataset/cifar-10-python/cifar-10-batches-py\\data_batch_3\n",
      "D:/dataset/cifar-10-python/cifar-10-batches-py\\data_batch_4\n",
      "D:/dataset/cifar-10-python/cifar-10-batches-py\\data_batch_5\n",
      "D:/dataset/cifar-10-python/cifar-10-batches-py\\test_batch\n"
     ]
    }
   ],
   "source": [
    "X_train, y_train, X_test, y_test = pre_dataset()"
   ]
  },
  {
   "cell_type": "code",
   "execution_count": 4,
   "metadata": {},
   "outputs": [
    {
     "name": "stdout",
     "output_type": "stream",
     "text": [
      "Iteration 0 / 5000, learning rate 0.000005 , loss 690.067868\n",
      "Iteration 500 / 5000, learning rate 0.000005 , loss 475.689450\n",
      "Iteration 1000 / 5000, learning rate 0.000003 , loss 391.728836\n",
      "Iteration 1500 / 5000, learning rate 0.000003 , loss 314.227652\n",
      "Iteration 2000 / 5000, learning rate 0.000001 , loss 302.804300\n",
      "Iteration 2500 / 5000, learning rate 0.000001 , loss 264.692976\n",
      "Iteration 3000 / 5000, learning rate 0.000001 , loss 254.584756\n",
      "Iteration 3500 / 5000, learning rate 0.000001 , loss 262.827517\n",
      "Iteration 4000 / 5000, learning rate 0.000000 , loss 234.858412\n",
      "Iteration 4500 / 5000, learning rate 0.000000 , loss 227.791427\n"
     ]
    },
    {
     "data": {
      "image/png": "[encoded data removed]",
      "text/plain": [
       "<Figure size 432x288 with 1 Axes>"
      ]
     },
     "metadata": {
      "needs_background": "light"
     },
     "output_type": "display_data"
    }
   ],
   "source": [
    "bp_network = BPNetWork()\n",
    "bp_network.train(X_train,y_train,learning_rate=0.00001,batch_num=300,num_iter=5000,\n",
    "                 reg=1,num_hidden_layer=50)"
   ]
  },
  {
   "cell_type": "code",
   "execution_count": 5,
   "metadata": {},
   "outputs": [
    {
     "name": "stdout",
     "output_type": "stream",
     "text": [
      "acc in testSet: 0.4705\n",
      "acc in trainSet: 0.74725\n"
     ]
    }
   ],
   "source": [
    "#accuracy in train dataset and test dataset\n",
    "y_pred = bp_network.predict(X_test)\n",
    "print('acc in testSet:',np.mean(y_pred == y_test))\n",
    "\n",
    "y_pred = bp_network.predict(X_train)\n",
    "print('acc in trainSet:',np.mean(y_pred == y_train))"
   ]
  },
  {
   "cell_type": "markdown",
   "metadata": {},
   "source": [
    "#### 使用relu作为激活函数后，Loss值下降的非常快，在训练集上准确率非常高"
   ]
  },
  {
   "cell_type": "code",
   "execution_count": null,
   "metadata": {},
   "outputs": [],
   "source": []
  }
 ],
 "metadata": {
  "kernelspec": {
   "display_name": "Python 3",
   "language": "python",
   "name": "python3"
  },
  "language_info": {
   "codemirror_mode": {
    "name": "ipython",
    "version": 3
   },
   "file_extension": ".py",
   "mimetype": "text/x-python",
   "name": "python",
   "nbconvert_exporter": "python",
   "pygments_lexer": "ipython3",
   "version": "3.6.4"
  }
 },
 "nbformat": 4,
 "nbformat_minor": 2
}
